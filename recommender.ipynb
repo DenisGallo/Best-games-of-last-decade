{
 "cells": [
  {
   "cell_type": "code",
   "execution_count": 1,
   "id": "6b1437e8",
   "metadata": {},
   "outputs": [],
   "source": [
    "import requests\n",
    "import random\n",
    "from itertools import cycle\n",
    "from bs4 import BeautifulSoup\n",
    "from datetime import datetime\n",
    "from dateutil.relativedelta import relativedelta\n",
    "import time"
   ]
  },
  {
   "cell_type": "code",
   "execution_count": 2,
   "id": "f224cc97",
   "metadata": {},
   "outputs": [],
   "source": [
    "current_year = datetime.now().year\n",
    "ten_years_ago = (datetime.now() - relativedelta(years=9)).year"
   ]
  },
  {
   "cell_type": "code",
   "execution_count": 3,
   "id": "d52b7a33",
   "metadata": {},
   "outputs": [],
   "source": [
    "user_agent_list = [\n",
    "    \"Mozilla/5.0 (Windows NT 10.0; Win64; x64) AppleWebKit/537.36 (KHTML, like Gecko) Chrome/137.0.0.0 Safari/537.36\",\n",
    "    \"Mozilla/5.0 (Windows NT 10.0; Win64; x64; rv:139.0) Gecko/20100101 Firefox/139.0\",\n",
    "    \"Mozilla/5.0 (iPhone; CPU iPhone OS 18_5 like Mac OS X) AppleWebKit/605.1.15 (KHTML, like Gecko) Version/18.5 Mobile/15E148 Safari/604.1\",\n",
    "    # ...,\n",
    "]\n",
    "\n",
    "random.shuffle(user_agent_list)\n",
    "\n",
    "random_user_agent = cycle(user_agent_list)\n",
    "user_agent = next(random_user_agent)\n",
    "\n",
    "headers = {\"User-Agent\": user_agent}"
   ]
  },
  {
   "cell_type": "code",
   "execution_count": 4,
   "id": "5be5363f",
   "metadata": {},
   "outputs": [],
   "source": [
    "f = open(\"already_played.txt\")\n",
    "already_played_list = f.read().split('\\n')\n",
    "f.close()\n",
    "\n",
    "f = open(\"blacklist.txt\")\n",
    "blacklisted_list = f.read().split('\\n')\n",
    "f.close()\n",
    "\n",
    "i = 1\n",
    "j = 0\n",
    "result_list = []"
   ]
  },
  {
   "cell_type": "code",
   "execution_count": 5,
   "id": "a6c2a039",
   "metadata": {},
   "outputs": [],
   "source": [
    "while len(result_list) <= 100 : \n",
    "    \n",
    "    URL = f'https://www.metacritic.com/browse/game/?releaseYearMin={ten_years_ago}&releaseYearMax={current_year}&page={i}'\n",
    "    \n",
    "    response = requests.get(URL, headers=headers)\n",
    "    html_data = response.text\n",
    "    soup = BeautifulSoup(html_data, \"html.parser\")\n",
    "    \n",
    "    for wrapped_game in soup.find_all('div', 'c-finderProductCard_title'):\n",
    "        \n",
    "        game = wrapped_game.text.split(' ', 1)[1]\n",
    "        result_list.append(game) if game not in already_played_list and game not in blacklisted_list else True\n",
    "        j = j + 1 if game in already_played_list else j + 0\n",
    "        \n",
    "    i = i + 1\n",
    "    time.sleep(5)"
   ]
  },
  {
   "cell_type": "code",
   "execution_count": 6,
   "id": "dec5136d",
   "metadata": {},
   "outputs": [],
   "source": [
    "recommended_items = min(j * 5, 100)"
   ]
  },
  {
   "cell_type": "code",
   "execution_count": 8,
   "id": "0117655c",
   "metadata": {},
   "outputs": [
    {
     "data": {
      "text/plain": [
       "[\"Baldur's Gate 3\",\n",
       " 'The House in Fata Morgana - Dreams of the Revenants Edition -',\n",
       " 'Elden Ring',\n",
       " 'Persona 5 Royal',\n",
       " 'God of War',\n",
       " 'Elden Ring: Shadow of the Erdtree',\n",
       " 'Metroid Prime Remastered',\n",
       " 'Metaphor: ReFantazio',\n",
       " 'God of War: Ragnarok',\n",
       " 'The Last of Us Part II',\n",
       " 'Half-Life: Alyx',\n",
       " 'Divinity: Original Sin II',\n",
       " 'Resident Evil 4',\n",
       " \"Uncharted 4: A Thief's End\",\n",
       " 'Super Smash Bros. Ultimate',\n",
       " 'Clair Obscur: Expedition 33',\n",
       " 'INSIDE',\n",
       " 'Final Fantasy VII Rebirth',\n",
       " 'Super Mario Bros. Wonder',\n",
       " 'Xenoblade Chronicles 3: Expansion Pass Wave 4 - Future Redeemed',\n",
       " 'Celeste',\n",
       " 'Forza Horizon 5',\n",
       " 'Street Fighter 6',\n",
       " \"Demon's Souls\",\n",
       " 'Blue Prince',\n",
       " 'Divinity: Original Sin II - Definitive Edition',\n",
       " 'Final Fantasy XIV: Endwalker',\n",
       " 'Out of the Park Baseball 17',\n",
       " 'UFO 50',\n",
       " 'Against the Storm',\n",
       " 'Microsoft Flight Simulator',\n",
       " 'Slay The Princess - The Pristine Cut',\n",
       " 'I Was a Teenage Exocolonist',\n",
       " 'Overwatch',\n",
       " 'Dragon Quest XI S: Echoes of an Elusive Age - Definitive Edition',\n",
       " 'Shadow of the Colossus',\n",
       " 'Split Fiction',\n",
       " 'Crusader Kings III',\n",
       " 'Disco Elysium',\n",
       " 'Donkey Kong Bananza']"
      ]
     },
     "execution_count": 8,
     "metadata": {},
     "output_type": "execute_result"
    }
   ],
   "source": [
    "result_list[:recommended_items]"
   ]
  },
  {
   "cell_type": "code",
   "execution_count": null,
   "id": "eb4c9793",
   "metadata": {},
   "outputs": [],
   "source": []
  }
 ],
 "metadata": {
  "kernelspec": {
   "display_name": "Python 3 (ipykernel)",
   "language": "python",
   "name": "python3"
  },
  "language_info": {
   "codemirror_mode": {
    "name": "ipython",
    "version": 3
   },
   "file_extension": ".py",
   "mimetype": "text/x-python",
   "name": "python",
   "nbconvert_exporter": "python",
   "pygments_lexer": "ipython3",
   "version": "3.12.3"
  }
 },
 "nbformat": 4,
 "nbformat_minor": 5
}
