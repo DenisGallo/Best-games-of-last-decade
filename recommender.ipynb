{
 "cells": [
  {
   "cell_type": "code",
   "execution_count": null,
   "id": "6b1437e8",
   "metadata": {},
   "outputs": [],
   "source": [
    "import requests\n",
    "import random\n",
    "from itertools import cycle\n",
    "from bs4 import BeautifulSoup\n",
    "from datetime import datetime\n",
    "from dateutil.relativedelta import relativedelta\n",
    "import time"
   ]
  },
  {
   "cell_type": "code",
   "execution_count": null,
   "id": "f224cc97",
   "metadata": {},
   "outputs": [],
   "source": [
    "current_year = datetime.now().year\n",
    "ten_years_ago = (datetime.now() - relativedelta(years=9)).year"
   ]
  },
  {
   "cell_type": "code",
   "execution_count": null,
   "id": "d52b7a33",
   "metadata": {},
   "outputs": [],
   "source": [
    "user_agent_list = [\n",
    "    \"Mozilla/5.0 (Windows NT 10.0; Win64; x64) AppleWebKit/537.36 (KHTML, like Gecko) Chrome/137.0.0.0 Safari/537.36\",\n",
    "    \"Mozilla/5.0 (Windows NT 10.0; Win64; x64; rv:139.0) Gecko/20100101 Firefox/139.0\",\n",
    "    \"Mozilla/5.0 (iPhone; CPU iPhone OS 18_5 like Mac OS X) AppleWebKit/605.1.15 (KHTML, like Gecko) Version/18.5 Mobile/15E148 Safari/604.1\",\n",
    "    # ...,\n",
    "]\n",
    "\n",
    "random.shuffle(user_agent_list)\n",
    "\n",
    "random_user_agent = cycle(user_agent_list)\n",
    "user_agent = next(random_user_agent)\n",
    "\n",
    "headers = {\"User-Agent\": user_agent}"
   ]
  },
  {
   "cell_type": "code",
   "execution_count": null,
   "id": "5be5363f",
   "metadata": {},
   "outputs": [],
   "source": [
    "f = open(\"already_played.txt\")\n",
    "already_played_list = f.read().split('\\n')\n",
    "f.close()\n",
    "\n",
    "f = open(\"blacklist.txt\")\n",
    "blacklisted_list = f.read().split('\\n')\n",
    "f.close()\n",
    "\n",
    "i = 1\n",
    "j = 0\n",
    "result_list = []"
   ]
  },
  {
   "cell_type": "code",
   "execution_count": null,
   "id": "a6c2a039",
   "metadata": {},
   "outputs": [],
   "source": [
    "while len(result_list) <= 100 : \n",
    "    \n",
    "    URL = f'https://www.metacritic.com/browse/game/?releaseYearMin={ten_years_ago}&releaseYearMax={current_year}&page={i}'\n",
    "    \n",
    "    response = requests.get(URL, headers=headers)\n",
    "    html_data = response.text\n",
    "    soup = BeautifulSoup(html_data, \"html.parser\")\n",
    "    \n",
    "    for wrapped_game in soup.find_all('div', 'c-finderProductCard_title'):\n",
    "        \n",
    "        game = wrapped_game.text.split(' ', 1)[1]\n",
    "        result_list.append(game) if game not in already_played_list and game not in blacklisted_list else True\n",
    "        j = j + 1 if game in already_played_list else j + 0\n",
    "        \n",
    "    i = i + 1\n",
    "    time.sleep(5)"
   ]
  },
  {
   "cell_type": "code",
   "execution_count": null,
   "id": "dec5136d",
   "metadata": {},
   "outputs": [],
   "source": [
    "recommended_items = min(j * 5, 100)"
   ]
  },
  {
   "cell_type": "code",
   "execution_count": null,
   "id": "0117655c",
   "metadata": {},
   "outputs": [],
   "source": [
    "result_list[:recommended_items]"
   ]
  }
 ],
 "metadata": {
  "kernelspec": {
   "display_name": "Python 3 (ipykernel)",
   "language": "python",
   "name": "python3"
  },
  "language_info": {
   "codemirror_mode": {
    "name": "ipython",
    "version": 3
   },
   "file_extension": ".py",
   "mimetype": "text/x-python",
   "name": "python",
   "nbconvert_exporter": "python",
   "pygments_lexer": "ipython3",
   "version": "3.12.3"
  }
 },
 "nbformat": 4,
 "nbformat_minor": 5
}
